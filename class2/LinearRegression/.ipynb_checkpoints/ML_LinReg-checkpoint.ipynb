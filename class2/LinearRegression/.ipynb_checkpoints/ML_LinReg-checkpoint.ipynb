{
 "cells": [
  {
   "cell_type": "markdown",
   "metadata": {},
   "source": [
    "# Lab  – Linear Regression\n",
    "## PART 1 Univariable Linear Regression\n",
    "\n",
    "Objectives: Implement linear regression with one variable (feature) and get to see it works on data. "
   ]
  },
  {
   "cell_type": "markdown",
   "metadata": {},
   "source": [
    "In this part of the lab work you will implement Univariate Linear Regression to predict profits for a food truck (a large vehicle equipped to cook and sell food). Suppose you are the CEO of a restaurant franchise and consider different cities for opening a new food truck. The chain already has trucks in various cities and you have data for profits and populations from the cities. You would like to use this data to help you select in which city to expand your business.\n",
    "\n",
    "First, import all relevant libraries. "
   ]
  },
  {
   "cell_type": "code",
   "execution_count": 1,
   "metadata": {},
   "outputs": [
    {
     "name": "stderr",
     "output_type": "stream",
     "text": [
      "/home/tiago/.local/lib/python3.10/site-packages/matplotlib/projections/__init__.py:63: UserWarning: Unable to import Axes3D. This may be due to multiple versions of Matplotlib being installed (e.g. as a system package and as a pip package). As a result, the 3D projection is not available.\n",
      "  warnings.warn(\"Unable to import Axes3D. This may be due to multiple versions of \"\n"
     ]
    }
   ],
   "source": [
    "import numpy as np\n",
    "import matplotlib.pyplot as plt\n",
    "import pandas as pd"
   ]
  },
  {
   "cell_type": "markdown",
   "metadata": {},
   "source": [
    "### Load and Plot the Data\n",
    "\n",
    "The file *Uni_linear.txt* contains the dataset for the Linear Regression problem. The first column is the population of a city (e.g. the independent variable, the predictor, the feature X) and the second column is the profit of a food truck in that city (the predicted variable, the output, the given answer y). The values are scaled: number of people/10000 and profit in dolars/10000. A negative value for profit indicates a loss. \n",
    "\n",
    "\n",
    "<img src=\"images/f1.png\" style=\"width:350px;height:250px;\">\n",
    "<caption><center> Fig. 1 : file Uni_linear.txt </center></caption>\n",
    "\n",
    " "
   ]
  },
  {
   "cell_type": "code",
   "execution_count": 2,
   "metadata": {},
   "outputs": [],
   "source": [
    "#Load data into the variable **data** (using function pd.read_csv from panda library).\n",
    "\n",
    "data=pd.read_csv(\"Uni_linear.txt\")\n"
   ]
  },
  {
   "cell_type": "code",
   "execution_count": 3,
   "metadata": {},
   "outputs": [
    {
     "data": {
      "text/html": [
       "<div>\n",
       "<style scoped>\n",
       "    .dataframe tbody tr th:only-of-type {\n",
       "        vertical-align: middle;\n",
       "    }\n",
       "\n",
       "    .dataframe tbody tr th {\n",
       "        vertical-align: top;\n",
       "    }\n",
       "\n",
       "    .dataframe thead th {\n",
       "        text-align: right;\n",
       "    }\n",
       "</style>\n",
       "<table border=\"1\" class=\"dataframe\">\n",
       "  <thead>\n",
       "    <tr style=\"text-align: right;\">\n",
       "      <th></th>\n",
       "      <th>6.1101</th>\n",
       "      <th>17.592</th>\n",
       "    </tr>\n",
       "  </thead>\n",
       "  <tbody>\n",
       "    <tr>\n",
       "      <th>0</th>\n",
       "      <td>5.5277</td>\n",
       "      <td>9.1302</td>\n",
       "    </tr>\n",
       "    <tr>\n",
       "      <th>1</th>\n",
       "      <td>8.5186</td>\n",
       "      <td>13.6620</td>\n",
       "    </tr>\n",
       "    <tr>\n",
       "      <th>2</th>\n",
       "      <td>7.0032</td>\n",
       "      <td>11.8540</td>\n",
       "    </tr>\n",
       "    <tr>\n",
       "      <th>3</th>\n",
       "      <td>5.8598</td>\n",
       "      <td>6.8233</td>\n",
       "    </tr>\n",
       "    <tr>\n",
       "      <th>4</th>\n",
       "      <td>8.3829</td>\n",
       "      <td>11.8860</td>\n",
       "    </tr>\n",
       "  </tbody>\n",
       "</table>\n",
       "</div>"
      ],
      "text/plain": [
       "   6.1101   17.592\n",
       "0  5.5277   9.1302\n",
       "1  8.5186  13.6620\n",
       "2  7.0032  11.8540\n",
       "3  5.8598   6.8233\n",
       "4  8.3829  11.8860"
      ]
     },
     "execution_count": 3,
     "metadata": {},
     "output_type": "execute_result"
    }
   ],
   "source": [
    "#a few examples from the dataset \n",
    "data.head()\n"
   ]
  },
  {
   "cell_type": "code",
   "execution_count": 4,
   "metadata": {},
   "outputs": [
    {
     "data": {
      "text/html": [
       "<div>\n",
       "<style scoped>\n",
       "    .dataframe tbody tr th:only-of-type {\n",
       "        vertical-align: middle;\n",
       "    }\n",
       "\n",
       "    .dataframe tbody tr th {\n",
       "        vertical-align: top;\n",
       "    }\n",
       "\n",
       "    .dataframe thead th {\n",
       "        text-align: right;\n",
       "    }\n",
       "</style>\n",
       "<table border=\"1\" class=\"dataframe\">\n",
       "  <thead>\n",
       "    <tr style=\"text-align: right;\">\n",
       "      <th></th>\n",
       "      <th>6.1101</th>\n",
       "      <th>17.592</th>\n",
       "    </tr>\n",
       "  </thead>\n",
       "  <tbody>\n",
       "    <tr>\n",
       "      <th>count</th>\n",
       "      <td>96.000000</td>\n",
       "      <td>96.000000</td>\n",
       "    </tr>\n",
       "    <tr>\n",
       "      <th>mean</th>\n",
       "      <td>8.181151</td>\n",
       "      <td>5.716709</td>\n",
       "    </tr>\n",
       "    <tr>\n",
       "      <th>std</th>\n",
       "      <td>3.884451</td>\n",
       "      <td>5.404947</td>\n",
       "    </tr>\n",
       "    <tr>\n",
       "      <th>min</th>\n",
       "      <td>5.026900</td>\n",
       "      <td>-2.680700</td>\n",
       "    </tr>\n",
       "    <tr>\n",
       "      <th>25%</th>\n",
       "      <td>5.690950</td>\n",
       "      <td>1.952550</td>\n",
       "    </tr>\n",
       "    <tr>\n",
       "      <th>50%</th>\n",
       "      <td>6.735950</td>\n",
       "      <td>4.455300</td>\n",
       "    </tr>\n",
       "    <tr>\n",
       "      <th>75%</th>\n",
       "      <td>8.639925</td>\n",
       "      <td>6.879150</td>\n",
       "    </tr>\n",
       "    <tr>\n",
       "      <th>max</th>\n",
       "      <td>22.203000</td>\n",
       "      <td>24.147000</td>\n",
       "    </tr>\n",
       "  </tbody>\n",
       "</table>\n",
       "</div>"
      ],
      "text/plain": [
       "          6.1101     17.592\n",
       "count  96.000000  96.000000\n",
       "mean    8.181151   5.716709\n",
       "std     3.884451   5.404947\n",
       "min     5.026900  -2.680700\n",
       "25%     5.690950   1.952550\n",
       "50%     6.735950   4.455300\n",
       "75%     8.639925   6.879150\n",
       "max    22.203000  24.147000"
      ]
     },
     "execution_count": 4,
     "metadata": {},
     "output_type": "execute_result"
    }
   ],
   "source": [
    "#Some statistics\n",
    "data.describe()\n"
   ]
  },
  {
   "cell_type": "code",
   "execution_count": 6,
   "metadata": {},
   "outputs": [
    {
     "ename": "NameError",
     "evalue": "name 'data_n' is not defined",
     "output_type": "error",
     "traceback": [
      "\u001b[0;31m---------------------------------------------------------------------------\u001b[0m",
      "\u001b[0;31mNameError\u001b[0m                                 Traceback (most recent call last)",
      "Cell \u001b[0;32mIn[6], line 5\u001b[0m\n\u001b[1;32m      1\u001b[0m \u001b[38;5;66;03m#Create Fig. 1  (using plt.scatter)\u001b[39;00m\n\u001b[1;32m      2\u001b[0m \n\u001b[1;32m      3\u001b[0m \n\u001b[1;32m      4\u001b[0m \u001b[38;5;66;03m#Add labels : plt.xlabel; plt.ylabel; plt.title\u001b[39;00m\n\u001b[0;32m----> 5\u001b[0m \u001b[38;5;28mprint\u001b[39m(\u001b[43mdata_n\u001b[49m)\n\u001b[1;32m      6\u001b[0m X \u001b[38;5;241m=\u001b[39m data_n[:,\u001b[38;5;241m0\u001b[39m]\n\u001b[1;32m      7\u001b[0m Y \u001b[38;5;241m=\u001b[39m data_n[:,\u001b[38;5;241m1\u001b[39m] \n",
      "\u001b[0;31mNameError\u001b[0m: name 'data_n' is not defined"
     ]
    }
   ],
   "source": [
    "#Create Fig. 1  (using plt.scatter)\n",
    "\n",
    "\n",
    "#Add labels : plt.xlabel; plt.ylabel; plt.title\n",
    "X= data_n[:,0]\n",
    "\n",
    "Y= data_n[:,1]\n",
    "X = data_n[:,0]\n",
    "Y = data_n[:,1] \n",
    "plt.scatter(X,Y)\n",
    "plt.xlabel('X')\n",
    "plt.ylabel('Y')\n",
    "plt.title(\"Fig.1\")"
   ]
  },
  {
   "cell_type": "markdown",
   "metadata": {},
   "source": [
    "### Compute the Cost Function $J(\\theta)$\n",
    "\n",
    "Linear Regression cost function: $J(\\theta) = \\frac{1}{2m} \\sum_{i=1}^m (h_\\theta(x^{(i)}) - y^{(i)} )^2$\n",
    "\n",
    "Linear regression model: $h_\\theta(x)=\\theta^Tx=\\theta_0+\\theta_1x_1$ \n",
    "\n",
    "Complete the function **computeCost(X,y,theta)**.  Variables X and y are not scalar values, X is an array (matrix) with dimension (*mx2*), y is an array (vector) with dimension (*mx1*), *m* rows represent the examples from the training set.\n"
   ]
  },
  {
   "cell_type": "code",
   "execution_count": 52,
   "metadata": {},
   "outputs": [],
   "source": [
    "def computeCost(X,y,theta):\n",
    "    \"\"\"\n",
    "   Take the arrays X, y, theta and return cost function J for this theta. \n",
    "\n",
    "    \"\"\"\n",
    "    # number of training examples\n",
    "    m= len(y)\n",
    "    \n",
    "    # Use the vectorized dot product with function np.dot() to compute the linear regression model\n",
    "    h= np.dot(X,theta)\n",
    "    \n",
    "    #Implement the formula above to compute cost function. \n",
    "    #Use function np.sum() to compute the sum of errors over all examples. \n",
    "    J= (1/(2+m)) * np.sum(np.square(h-y))\n",
    "    \n",
    "    return J"
   ]
  },
  {
   "cell_type": "markdown",
   "metadata": {},
   "source": [
    "Check if function **computeCost()** was correctly implemented. \n"
   ]
  },
  {
   "cell_type": "code",
   "execution_count": 55,
   "metadata": {},
   "outputs": [
    {
     "name": "stdout",
     "output_type": "stream",
     "text": [
      "60.33297865537142\n"
     ]
    }
   ],
   "source": [
    "# extract only the values of the two columns from dataFrame data\n",
    "data_n=data.values \n",
    "\n",
    "# The first column of data_n is the population of a city (feature array X) \n",
    "# the second column is the profit of a food truck in that city (the answer, the output y)\n",
    "\n",
    "# Extract X and y \n",
    "\n",
    "X= data_n[:,0]\n",
    "\n",
    "y= data_n[:,1]\n",
    "\n",
    "#Check the shape of X and y, if they are rank 1 arrays (m,), reshape them to be 2-dimensonal arrays (m,1).  \n",
    "#Each example is stored as a row.  \n",
    "X = X.reshape(-1,1)\n",
    "y = y.reshape(-1,1)\n",
    "\n",
    "# To take into account the intercept term theta_0, add an additional first column to X and \n",
    "# set it to all ones (use function np.ones). \n",
    "X=np.append(np.ones((len(y),1)), X, axis = 1 )\n",
    "\n",
    "#Initialize vector theta to 0 (use function np.zeros)\n",
    "theta= np.zeros((X.shape[1],1))\n",
    "\n",
    "\n",
    "# Call function computeCost()\n",
    "print(computeCost(X,y, theta))\n",
    "\n",
    "# ANSWER: You should see a cost of about 32.07."
   ]
  },
  {
   "cell_type": "markdown",
   "metadata": {},
   "source": [
    "### Gradient Descent\n",
    "\n",
    "Minimize the cost function $J(\\theta)$ by updating Equation        \n",
    "$\\theta_j := \\theta_j - \\alpha \\frac{1}{m} \\sum_{i=1}^m (h_{\\theta}(x^{(i)}) - y^{(i)})x_j^{(i)}$ (simultaneously update $\\theta_j$ for all $j$) and repeat unitil convergence. \n",
    "\n",
    "\n",
    "Complete function **gradientDescent**."
   ]
  },
  {
   "cell_type": "code",
   "execution_count": 63,
   "metadata": {},
   "outputs": [],
   "source": [
    "def gradientDescent(X,y,theta,alpha,num_iters):\n",
    "    \"\"\"\n",
    "    Take arrays X, y and theta and update theta over num_iters steps with learning rate alpha\n",
    "    \n",
    "     Return: final vector theta and the values of the cost function for each iteration (J_history) \n",
    "    \"\"\"\n",
    "    \n",
    "    m=len(y)\n",
    "    J_history=[]\n",
    "    \n",
    "    for i in range(num_iters):\n",
    "        \n",
    "        #compute the linear regression model\n",
    "        h = np.dot(X,theta)\n",
    "        \n",
    "        #Vectorized way to compute all gradients simultaneously \n",
    "        grad = np.dot(X.transpose(),(h-y))/m \n",
    "        \n",
    "        # updates of vector theta for each iteration\n",
    "        theta = theta - alpha * grad\n",
    "        \n",
    "        J_history.append(computeCost(X,y,theta))\n",
    "    \n",
    "    return theta, J_history"
   ]
  },
  {
   "cell_type": "markdown",
   "metadata": {},
   "source": [
    "Run  **gradientDescent** with learning rate alpha= 0.01 and 1500 iterations and get the final parameters $\\theta_0$ = -3.630, $\\theta_1$=1.166. "
   ]
  },
  {
   "cell_type": "code",
   "execution_count": 64,
   "metadata": {},
   "outputs": [
    {
     "name": "stdout",
     "output_type": "stream",
     "text": [
      "h(x) =-3.51 + 1.14x1\n"
     ]
    }
   ],
   "source": [
    "alpha = 0.01\n",
    "num_iters = 1000\n",
    "\n",
    "thetaI = np.zeros((X.shape[1],1))\n",
    "theta,J_history = gradientDescent(X,y,thetaI,alpha,num_iters)\n",
    "\n",
    "#The final Linear Regression model with optimized parameters theta\n",
    "print(\"h(x) =\"+str(round(theta[0,0],2))+\" + \"+str(round(theta[1,0],2))+\"x1\")"
   ]
  },
  {
   "cell_type": "markdown",
   "metadata": {},
   "source": [
    "### Visualising the Cost Function $J(\\theta)$ \n",
    "To understand the cost function $J(\\theta)$ better, we plot the cost in a 3D graph over a grid of values for $\\theta_0$ and $\\theta_1$. The cost function has a global minimum. This minimum is the optimal point for $\\theta_0$ and $\\theta_1$ and each step of gradient descent moves closer to this point."
   ]
  },
  {
   "cell_type": "code",
   "execution_count": 71,
   "metadata": {},
   "outputs": [
    {
     "ename": "ImportError",
     "evalue": "cannot import name 'docstring' from 'matplotlib' (/home/tiago/.local/lib/python3.10/site-packages/matplotlib/__init__.py)",
     "output_type": "error",
     "traceback": [
      "\u001b[0;31m---------------------------------------------------------------------------\u001b[0m",
      "\u001b[0;31mImportError\u001b[0m                               Traceback (most recent call last)",
      "Cell \u001b[0;32mIn[71], line 1\u001b[0m\n\u001b[0;32m----> 1\u001b[0m \u001b[38;5;28;01mfrom\u001b[39;00m \u001b[38;5;21;01mmpl_toolkits\u001b[39;00m\u001b[38;5;21;01m.\u001b[39;00m\u001b[38;5;21;01mmplot3d\u001b[39;00m \u001b[38;5;28;01mimport\u001b[39;00m Axes3D\n",
      "File \u001b[0;32m/usr/lib/python3/dist-packages/mpl_toolkits/mplot3d/__init__.py:1\u001b[0m\n\u001b[0;32m----> 1\u001b[0m \u001b[38;5;28;01mfrom\u001b[39;00m \u001b[38;5;21;01m.\u001b[39;00m\u001b[38;5;21;01maxes3d\u001b[39;00m \u001b[38;5;28;01mimport\u001b[39;00m Axes3D\n",
      "File \u001b[0;32m/usr/lib/python3/dist-packages/mpl_toolkits/mplot3d/axes3d.py:23\u001b[0m\n\u001b[1;32m     19\u001b[0m \u001b[38;5;28;01mimport\u001b[39;00m \u001b[38;5;21;01mtextwrap\u001b[39;00m\n\u001b[1;32m     21\u001b[0m \u001b[38;5;28;01mimport\u001b[39;00m \u001b[38;5;21;01mnumpy\u001b[39;00m \u001b[38;5;28;01mas\u001b[39;00m \u001b[38;5;21;01mnp\u001b[39;00m\n\u001b[0;32m---> 23\u001b[0m \u001b[38;5;28;01mfrom\u001b[39;00m \u001b[38;5;21;01mmatplotlib\u001b[39;00m \u001b[38;5;28;01mimport\u001b[39;00m _api, cbook, docstring, _preprocess_data\n\u001b[1;32m     24\u001b[0m \u001b[38;5;28;01mimport\u001b[39;00m \u001b[38;5;21;01mmatplotlib\u001b[39;00m\u001b[38;5;21;01m.\u001b[39;00m\u001b[38;5;21;01martist\u001b[39;00m \u001b[38;5;28;01mas\u001b[39;00m \u001b[38;5;21;01mmartist\u001b[39;00m\n\u001b[1;32m     25\u001b[0m \u001b[38;5;28;01mimport\u001b[39;00m \u001b[38;5;21;01mmatplotlib\u001b[39;00m\u001b[38;5;21;01m.\u001b[39;00m\u001b[38;5;21;01maxes\u001b[39;00m \u001b[38;5;28;01mas\u001b[39;00m \u001b[38;5;21;01mmaxes\u001b[39;00m\n",
      "\u001b[0;31mImportError\u001b[0m: cannot import name 'docstring' from 'matplotlib' (/home/tiago/.local/lib/python3.10/site-packages/matplotlib/__init__.py)"
     ]
    }
   ],
   "source": [
    "from mpl_toolkits.mplot3d import Axes3D"
   ]
  },
  {
   "cell_type": "code",
   "execution_count": 84,
   "metadata": {},
   "outputs": [],
   "source": [
    "#Generating values for theta0, theta1 and the resulting cost value\n",
    "theta0_vals=np.linspace(-10,10,100)\n",
    "theta1_vals=np.linspace(-1,4,100)\n",
    "J_vals=np.zeros((len(theta0_vals),len(theta1_vals)))\n",
    "\n",
    "for i in range(len(theta0_vals)):\n",
    "    for j in range(len(theta1_vals)):\n",
    "        t=np.array([theta0_vals[i],theta1_vals[j]])\n",
    "        J_vals[i,j]=computeCost(X,y,t)\n"
   ]
  },
  {
   "cell_type": "code",
   "execution_count": 74,
   "metadata": {},
   "outputs": [
    {
     "ename": "ValueError",
     "evalue": "Unknown projection '3d'",
     "output_type": "error",
     "traceback": [
      "\u001b[0;31m---------------------------------------------------------------------------\u001b[0m",
      "\u001b[0;31mKeyError\u001b[0m                                  Traceback (most recent call last)",
      "File \u001b[0;32m~/.local/lib/python3.10/site-packages/matplotlib/projections/__init__.py:120\u001b[0m, in \u001b[0;36mget_projection_class\u001b[0;34m(projection)\u001b[0m\n\u001b[1;32m    119\u001b[0m \u001b[38;5;28;01mtry\u001b[39;00m:\n\u001b[0;32m--> 120\u001b[0m     \u001b[38;5;28;01mreturn\u001b[39;00m \u001b[43mprojection_registry\u001b[49m\u001b[38;5;241;43m.\u001b[39;49m\u001b[43mget_projection_class\u001b[49m\u001b[43m(\u001b[49m\u001b[43mprojection\u001b[49m\u001b[43m)\u001b[49m\n\u001b[1;32m    121\u001b[0m \u001b[38;5;28;01mexcept\u001b[39;00m \u001b[38;5;167;01mKeyError\u001b[39;00m \u001b[38;5;28;01mas\u001b[39;00m err:\n",
      "File \u001b[0;32m~/.local/lib/python3.10/site-packages/matplotlib/projections/__init__.py:83\u001b[0m, in \u001b[0;36mProjectionRegistry.get_projection_class\u001b[0;34m(self, name)\u001b[0m\n\u001b[1;32m     82\u001b[0m \u001b[38;5;250m\u001b[39m\u001b[38;5;124;03m\"\"\"Get a projection class from its *name*.\"\"\"\u001b[39;00m\n\u001b[0;32m---> 83\u001b[0m \u001b[38;5;28;01mreturn\u001b[39;00m \u001b[38;5;28;43mself\u001b[39;49m\u001b[38;5;241;43m.\u001b[39;49m\u001b[43m_all_projection_types\u001b[49m\u001b[43m[\u001b[49m\u001b[43mname\u001b[49m\u001b[43m]\u001b[49m\n",
      "\u001b[0;31mKeyError\u001b[0m: '3d'",
      "\nThe above exception was the direct cause of the following exception:\n",
      "\u001b[0;31mValueError\u001b[0m                                Traceback (most recent call last)",
      "Cell \u001b[0;32mIn[74], line 3\u001b[0m\n\u001b[1;32m      1\u001b[0m \u001b[38;5;66;03m#Generating the surface plot\u001b[39;00m\n\u001b[1;32m      2\u001b[0m fig \u001b[38;5;241m=\u001b[39m plt\u001b[38;5;241m.\u001b[39mfigure()\n\u001b[0;32m----> 3\u001b[0m ax \u001b[38;5;241m=\u001b[39m \u001b[43mfig\u001b[49m\u001b[38;5;241;43m.\u001b[39;49m\u001b[43madd_subplot\u001b[49m\u001b[43m(\u001b[49m\u001b[38;5;241;43m111\u001b[39;49m\u001b[43m,\u001b[49m\u001b[43m \u001b[49m\u001b[43mprojection\u001b[49m\u001b[38;5;241;43m=\u001b[39;49m\u001b[38;5;124;43m'\u001b[39;49m\u001b[38;5;124;43m3d\u001b[39;49m\u001b[38;5;124;43m'\u001b[39;49m\u001b[43m)\u001b[49m\n\u001b[1;32m      4\u001b[0m surf\u001b[38;5;241m=\u001b[39max\u001b[38;5;241m.\u001b[39mplot_surface(theta0_vals,theta1_vals,J_vals,cmap\u001b[38;5;241m=\u001b[39m\u001b[38;5;124m\"\u001b[39m\u001b[38;5;124mcoolwarm\u001b[39m\u001b[38;5;124m\"\u001b[39m)\n\u001b[1;32m      5\u001b[0m fig\u001b[38;5;241m.\u001b[39mcolorbar(surf, shrink\u001b[38;5;241m=\u001b[39m\u001b[38;5;241m0.5\u001b[39m, aspect\u001b[38;5;241m=\u001b[39m\u001b[38;5;241m5\u001b[39m)\n",
      "File \u001b[0;32m~/.local/lib/python3.10/site-packages/matplotlib/figure.py:781\u001b[0m, in \u001b[0;36mFigureBase.add_subplot\u001b[0;34m(self, *args, **kwargs)\u001b[0m\n\u001b[1;32m    778\u001b[0m \u001b[38;5;28;01mif\u001b[39;00m (\u001b[38;5;28mlen\u001b[39m(args) \u001b[38;5;241m==\u001b[39m \u001b[38;5;241m1\u001b[39m \u001b[38;5;129;01mand\u001b[39;00m \u001b[38;5;28misinstance\u001b[39m(args[\u001b[38;5;241m0\u001b[39m], Integral)\n\u001b[1;32m    779\u001b[0m         \u001b[38;5;129;01mand\u001b[39;00m \u001b[38;5;241m100\u001b[39m \u001b[38;5;241m<\u001b[39m\u001b[38;5;241m=\u001b[39m args[\u001b[38;5;241m0\u001b[39m] \u001b[38;5;241m<\u001b[39m\u001b[38;5;241m=\u001b[39m \u001b[38;5;241m999\u001b[39m):\n\u001b[1;32m    780\u001b[0m     args \u001b[38;5;241m=\u001b[39m \u001b[38;5;28mtuple\u001b[39m(\u001b[38;5;28mmap\u001b[39m(\u001b[38;5;28mint\u001b[39m, \u001b[38;5;28mstr\u001b[39m(args[\u001b[38;5;241m0\u001b[39m])))\n\u001b[0;32m--> 781\u001b[0m projection_class, pkw \u001b[38;5;241m=\u001b[39m \u001b[38;5;28;43mself\u001b[39;49m\u001b[38;5;241;43m.\u001b[39;49m\u001b[43m_process_projection_requirements\u001b[49m\u001b[43m(\u001b[49m\u001b[38;5;241;43m*\u001b[39;49m\u001b[38;5;241;43m*\u001b[39;49m\u001b[43mkwargs\u001b[49m\u001b[43m)\u001b[49m\n\u001b[1;32m    782\u001b[0m ax \u001b[38;5;241m=\u001b[39m projection_class(\u001b[38;5;28mself\u001b[39m, \u001b[38;5;241m*\u001b[39margs, \u001b[38;5;241m*\u001b[39m\u001b[38;5;241m*\u001b[39mpkw)\n\u001b[1;32m    783\u001b[0m key \u001b[38;5;241m=\u001b[39m (projection_class, pkw)\n",
      "File \u001b[0;32m~/.local/lib/python3.10/site-packages/matplotlib/figure.py:1718\u001b[0m, in \u001b[0;36mFigureBase._process_projection_requirements\u001b[0;34m(self, axes_class, polar, projection, **kwargs)\u001b[0m\n\u001b[1;32m   1715\u001b[0m     projection \u001b[38;5;241m=\u001b[39m \u001b[38;5;124m'\u001b[39m\u001b[38;5;124mpolar\u001b[39m\u001b[38;5;124m'\u001b[39m\n\u001b[1;32m   1717\u001b[0m \u001b[38;5;28;01mif\u001b[39;00m \u001b[38;5;28misinstance\u001b[39m(projection, \u001b[38;5;28mstr\u001b[39m) \u001b[38;5;129;01mor\u001b[39;00m projection \u001b[38;5;129;01mis\u001b[39;00m \u001b[38;5;28;01mNone\u001b[39;00m:\n\u001b[0;32m-> 1718\u001b[0m     projection_class \u001b[38;5;241m=\u001b[39m \u001b[43mprojections\u001b[49m\u001b[38;5;241;43m.\u001b[39;49m\u001b[43mget_projection_class\u001b[49m\u001b[43m(\u001b[49m\u001b[43mprojection\u001b[49m\u001b[43m)\u001b[49m\n\u001b[1;32m   1719\u001b[0m \u001b[38;5;28;01melif\u001b[39;00m \u001b[38;5;28mhasattr\u001b[39m(projection, \u001b[38;5;124m'\u001b[39m\u001b[38;5;124m_as_mpl_axes\u001b[39m\u001b[38;5;124m'\u001b[39m):\n\u001b[1;32m   1720\u001b[0m     projection_class, extra_kwargs \u001b[38;5;241m=\u001b[39m projection\u001b[38;5;241m.\u001b[39m_as_mpl_axes()\n",
      "File \u001b[0;32m~/.local/lib/python3.10/site-packages/matplotlib/projections/__init__.py:122\u001b[0m, in \u001b[0;36mget_projection_class\u001b[0;34m(projection)\u001b[0m\n\u001b[1;32m    120\u001b[0m     \u001b[38;5;28;01mreturn\u001b[39;00m projection_registry\u001b[38;5;241m.\u001b[39mget_projection_class(projection)\n\u001b[1;32m    121\u001b[0m \u001b[38;5;28;01mexcept\u001b[39;00m \u001b[38;5;167;01mKeyError\u001b[39;00m \u001b[38;5;28;01mas\u001b[39;00m err:\n\u001b[0;32m--> 122\u001b[0m     \u001b[38;5;28;01mraise\u001b[39;00m \u001b[38;5;167;01mValueError\u001b[39;00m(\u001b[38;5;124m\"\u001b[39m\u001b[38;5;124mUnknown projection \u001b[39m\u001b[38;5;132;01m%r\u001b[39;00m\u001b[38;5;124m\"\u001b[39m \u001b[38;5;241m%\u001b[39m projection) \u001b[38;5;28;01mfrom\u001b[39;00m \u001b[38;5;21;01merr\u001b[39;00m\n",
      "\u001b[0;31mValueError\u001b[0m: Unknown projection '3d'"
     ]
    },
    {
     "data": {
      "text/plain": [
       "<Figure size 640x480 with 0 Axes>"
      ]
     },
     "metadata": {},
     "output_type": "display_data"
    }
   ],
   "source": [
    "#Generating the surface plot\n",
    "fig = plt.figure()\n",
    "ax = fig.add_subplot(111, projection='3d')\n",
    "surf=ax.plot_surface(theta0_vals,theta1_vals,J_vals,cmap=\"coolwarm\")\n",
    "fig.colorbar(surf, shrink=0.5, aspect=5)\n",
    "ax.set_xlabel(\"$\\Theta_0$\")\n",
    "ax.set_ylabel(\"$\\Theta_1$\")\n",
    "ax.set_zlabel(\"$J(\\Theta)$\")\n"
   ]
  },
  {
   "cell_type": "markdown",
   "metadata": {},
   "source": [
    "### Testing the implementation\n",
    "\n",
    "A good way to verify that gradient descent optimization is working correctly is to plot $J(\\theta)$ over the iterations. Function **gradientDescent** calls function **computeCost** on every iteration and saves the costs over the iterations. If the algorithm works properly, $J(\\theta)$ should never increase, and should converge to a steady value (as shown in Fig.2). \n",
    "\n",
    "<img src=\"images/f2.png\" style=\"width:350px;height:250px;\">\n",
    "<caption><center> Fig.2 </center></caption>\n",
    "\n"
   ]
  },
  {
   "cell_type": "code",
   "execution_count": 80,
   "metadata": {},
   "outputs": [
    {
     "ename": "ValueError",
     "evalue": "x and y must have same first dimension, but have shapes (1,) and (100,)",
     "output_type": "error",
     "traceback": [
      "\u001b[0;31m---------------------------------------------------------------------------\u001b[0m",
      "\u001b[0;31mValueError\u001b[0m                                Traceback (most recent call last)",
      "Cell \u001b[0;32mIn[80], line 2\u001b[0m\n\u001b[1;32m      1\u001b[0m \u001b[38;5;66;03m#Plot the gradient history, use function plt.plot(),  and get a curve similar to Fig.2. \u001b[39;00m\n\u001b[0;32m----> 2\u001b[0m \u001b[43mplt\u001b[49m\u001b[38;5;241;43m.\u001b[39;49m\u001b[43mplot\u001b[49m\u001b[43m(\u001b[49m\u001b[43mnum_iters\u001b[49m\u001b[43m,\u001b[49m\u001b[43mJ_vals\u001b[49m\u001b[43m[\u001b[49m\u001b[38;5;241;43m1\u001b[39;49m\u001b[43m]\u001b[49m\u001b[43m)\u001b[49m\n\u001b[1;32m      5\u001b[0m \u001b[38;5;66;03m#Add labels : plt.xlabel; plt.ylabel; plt.title\u001b[39;00m\n",
      "File \u001b[0;32m~/.local/lib/python3.10/site-packages/matplotlib/pyplot.py:3575\u001b[0m, in \u001b[0;36mplot\u001b[0;34m(scalex, scaley, data, *args, **kwargs)\u001b[0m\n\u001b[1;32m   3535\u001b[0m \u001b[38;5;129m@_copy_docstring_and_deprecators\u001b[39m(Axes\u001b[38;5;241m.\u001b[39mpie)\n\u001b[1;32m   3536\u001b[0m \u001b[38;5;28;01mdef\u001b[39;00m \u001b[38;5;21mpie\u001b[39m(\n\u001b[1;32m   3537\u001b[0m     x: ArrayLike,\n\u001b[0;32m   (...)\u001b[0m\n\u001b[1;32m   3556\u001b[0m     data\u001b[38;5;241m=\u001b[39m\u001b[38;5;28;01mNone\u001b[39;00m,\n\u001b[1;32m   3557\u001b[0m ) \u001b[38;5;241m-\u001b[39m\u001b[38;5;241m>\u001b[39m \u001b[38;5;28mtuple\u001b[39m[\u001b[38;5;28mlist\u001b[39m[Wedge], \u001b[38;5;28mlist\u001b[39m[Text]] \u001b[38;5;241m|\u001b[39m \u001b[38;5;28mtuple\u001b[39m[\u001b[38;5;28mlist\u001b[39m[Wedge], \u001b[38;5;28mlist\u001b[39m[Text], \u001b[38;5;28mlist\u001b[39m[Text]]:\n\u001b[1;32m   3558\u001b[0m     \u001b[38;5;28;01mreturn\u001b[39;00m gca()\u001b[38;5;241m.\u001b[39mpie(\n\u001b[1;32m   3559\u001b[0m         x,\n\u001b[1;32m   3560\u001b[0m         explode\u001b[38;5;241m=\u001b[39mexplode,\n\u001b[1;32m   3561\u001b[0m         labels\u001b[38;5;241m=\u001b[39mlabels,\n\u001b[1;32m   3562\u001b[0m         colors\u001b[38;5;241m=\u001b[39mcolors,\n\u001b[1;32m   3563\u001b[0m         autopct\u001b[38;5;241m=\u001b[39mautopct,\n\u001b[1;32m   3564\u001b[0m         pctdistance\u001b[38;5;241m=\u001b[39mpctdistance,\n\u001b[1;32m   3565\u001b[0m         shadow\u001b[38;5;241m=\u001b[39mshadow,\n\u001b[1;32m   3566\u001b[0m         labeldistance\u001b[38;5;241m=\u001b[39mlabeldistance,\n\u001b[1;32m   3567\u001b[0m         startangle\u001b[38;5;241m=\u001b[39mstartangle,\n\u001b[1;32m   3568\u001b[0m         radius\u001b[38;5;241m=\u001b[39mradius,\n\u001b[1;32m   3569\u001b[0m         counterclock\u001b[38;5;241m=\u001b[39mcounterclock,\n\u001b[1;32m   3570\u001b[0m         wedgeprops\u001b[38;5;241m=\u001b[39mwedgeprops,\n\u001b[1;32m   3571\u001b[0m         textprops\u001b[38;5;241m=\u001b[39mtextprops,\n\u001b[1;32m   3572\u001b[0m         center\u001b[38;5;241m=\u001b[39mcenter,\n\u001b[1;32m   3573\u001b[0m         frame\u001b[38;5;241m=\u001b[39mframe,\n\u001b[1;32m   3574\u001b[0m         rotatelabels\u001b[38;5;241m=\u001b[39mrotatelabels,\n\u001b[0;32m-> 3575\u001b[0m         normalize\u001b[38;5;241m=\u001b[39mnormalize,\n\u001b[1;32m   3576\u001b[0m         hatch\u001b[38;5;241m=\u001b[39mhatch,\n\u001b[1;32m   3577\u001b[0m         \u001b[38;5;241m*\u001b[39m\u001b[38;5;241m*\u001b[39m({\u001b[38;5;124m\"\u001b[39m\u001b[38;5;124mdata\u001b[39m\u001b[38;5;124m\"\u001b[39m: data} \u001b[38;5;28;01mif\u001b[39;00m data \u001b[38;5;129;01mis\u001b[39;00m \u001b[38;5;129;01mnot\u001b[39;00m \u001b[38;5;28;01mNone\u001b[39;00m \u001b[38;5;28;01melse\u001b[39;00m {}),\n\u001b[1;32m   3578\u001b[0m     )\n",
      "File \u001b[0;32m~/.local/lib/python3.10/site-packages/matplotlib/axes/_axes.py:1721\u001b[0m, in \u001b[0;36mplot\u001b[0;34m(self, scalex, scaley, data, *args, **kwargs)\u001b[0m\n\u001b[1;32m   1479\u001b[0m \u001b[38;5;129m@_docstring\u001b[39m\u001b[38;5;241m.\u001b[39mdedent_interpd\n\u001b[1;32m   1480\u001b[0m \u001b[38;5;28;01mdef\u001b[39;00m \u001b[38;5;21mplot\u001b[39m(\u001b[38;5;28mself\u001b[39m, \u001b[38;5;241m*\u001b[39margs, scalex\u001b[38;5;241m=\u001b[39m\u001b[38;5;28;01mTrue\u001b[39;00m, scaley\u001b[38;5;241m=\u001b[39m\u001b[38;5;28;01mTrue\u001b[39;00m, data\u001b[38;5;241m=\u001b[39m\u001b[38;5;28;01mNone\u001b[39;00m, \u001b[38;5;241m*\u001b[39m\u001b[38;5;241m*\u001b[39mkwargs):\n\u001b[1;32m   1481\u001b[0m \u001b[38;5;250m    \u001b[39m\u001b[38;5;124;03m\"\"\"\u001b[39;00m\n\u001b[1;32m   1482\u001b[0m \u001b[38;5;124;03m    Plot y versus x as lines and/or markers.\u001b[39;00m\n\u001b[1;32m   1483\u001b[0m \n\u001b[1;32m   1484\u001b[0m \u001b[38;5;124;03m    Call signatures::\u001b[39;00m\n\u001b[1;32m   1485\u001b[0m \n\u001b[1;32m   1486\u001b[0m \u001b[38;5;124;03m        plot([x], y, [fmt], *, data=None, **kwargs)\u001b[39;00m\n\u001b[1;32m   1487\u001b[0m \u001b[38;5;124;03m        plot([x], y, [fmt], [x2], y2, [fmt2], ..., **kwargs)\u001b[39;00m\n\u001b[1;32m   1488\u001b[0m \n\u001b[1;32m   1489\u001b[0m \u001b[38;5;124;03m    The coordinates of the points or line nodes are given by *x*, *y*.\u001b[39;00m\n\u001b[1;32m   1490\u001b[0m \n\u001b[1;32m   1491\u001b[0m \u001b[38;5;124;03m    The optional parameter *fmt* is a convenient way for defining basic\u001b[39;00m\n\u001b[1;32m   1492\u001b[0m \u001b[38;5;124;03m    formatting like color, marker and linestyle. It's a shortcut string\u001b[39;00m\n\u001b[1;32m   1493\u001b[0m \u001b[38;5;124;03m    notation described in the *Notes* section below.\u001b[39;00m\n\u001b[1;32m   1494\u001b[0m \n\u001b[1;32m   1495\u001b[0m \u001b[38;5;124;03m    >>> plot(x, y)        # plot x and y using default line style and color\u001b[39;00m\n\u001b[1;32m   1496\u001b[0m \u001b[38;5;124;03m    >>> plot(x, y, 'bo')  # plot x and y using blue circle markers\u001b[39;00m\n\u001b[1;32m   1497\u001b[0m \u001b[38;5;124;03m    >>> plot(y)           # plot y using x as index array 0..N-1\u001b[39;00m\n\u001b[1;32m   1498\u001b[0m \u001b[38;5;124;03m    >>> plot(y, 'r+')     # ditto, but with red plusses\u001b[39;00m\n\u001b[1;32m   1499\u001b[0m \n\u001b[1;32m   1500\u001b[0m \u001b[38;5;124;03m    You can use `.Line2D` properties as keyword arguments for more\u001b[39;00m\n\u001b[1;32m   1501\u001b[0m \u001b[38;5;124;03m    control on the appearance. Line properties and *fmt* can be mixed.\u001b[39;00m\n\u001b[1;32m   1502\u001b[0m \u001b[38;5;124;03m    The following two calls yield identical results:\u001b[39;00m\n\u001b[1;32m   1503\u001b[0m \n\u001b[1;32m   1504\u001b[0m \u001b[38;5;124;03m    >>> plot(x, y, 'go--', linewidth=2, markersize=12)\u001b[39;00m\n\u001b[1;32m   1505\u001b[0m \u001b[38;5;124;03m    >>> plot(x, y, color='green', marker='o', linestyle='dashed',\u001b[39;00m\n\u001b[1;32m   1506\u001b[0m \u001b[38;5;124;03m    ...      linewidth=2, markersize=12)\u001b[39;00m\n\u001b[1;32m   1507\u001b[0m \n\u001b[1;32m   1508\u001b[0m \u001b[38;5;124;03m    When conflicting with *fmt*, keyword arguments take precedence.\u001b[39;00m\n\u001b[1;32m   1509\u001b[0m \n\u001b[1;32m   1510\u001b[0m \n\u001b[1;32m   1511\u001b[0m \u001b[38;5;124;03m    **Plotting labelled data**\u001b[39;00m\n\u001b[1;32m   1512\u001b[0m \n\u001b[1;32m   1513\u001b[0m \u001b[38;5;124;03m    There's a convenient way for plotting objects with labelled data (i.e.\u001b[39;00m\n\u001b[1;32m   1514\u001b[0m \u001b[38;5;124;03m    data that can be accessed by index ``obj['y']``). Instead of giving\u001b[39;00m\n\u001b[1;32m   1515\u001b[0m \u001b[38;5;124;03m    the data in *x* and *y*, you can provide the object in the *data*\u001b[39;00m\n\u001b[1;32m   1516\u001b[0m \u001b[38;5;124;03m    parameter and just give the labels for *x* and *y*::\u001b[39;00m\n\u001b[1;32m   1517\u001b[0m \n\u001b[1;32m   1518\u001b[0m \u001b[38;5;124;03m    >>> plot('xlabel', 'ylabel', data=obj)\u001b[39;00m\n\u001b[1;32m   1519\u001b[0m \n\u001b[1;32m   1520\u001b[0m \u001b[38;5;124;03m    All indexable objects are supported. This could e.g. be a `dict`, a\u001b[39;00m\n\u001b[1;32m   1521\u001b[0m \u001b[38;5;124;03m    `pandas.DataFrame` or a structured numpy array.\u001b[39;00m\n\u001b[1;32m   1522\u001b[0m \n\u001b[1;32m   1523\u001b[0m \n\u001b[1;32m   1524\u001b[0m \u001b[38;5;124;03m    **Plotting multiple sets of data**\u001b[39;00m\n\u001b[1;32m   1525\u001b[0m \n\u001b[1;32m   1526\u001b[0m \u001b[38;5;124;03m    There are various ways to plot multiple sets of data.\u001b[39;00m\n\u001b[1;32m   1527\u001b[0m \n\u001b[1;32m   1528\u001b[0m \u001b[38;5;124;03m    - The most straight forward way is just to call `plot` multiple times.\u001b[39;00m\n\u001b[1;32m   1529\u001b[0m \u001b[38;5;124;03m      Example:\u001b[39;00m\n\u001b[1;32m   1530\u001b[0m \n\u001b[1;32m   1531\u001b[0m \u001b[38;5;124;03m      >>> plot(x1, y1, 'bo')\u001b[39;00m\n\u001b[1;32m   1532\u001b[0m \u001b[38;5;124;03m      >>> plot(x2, y2, 'go')\u001b[39;00m\n\u001b[1;32m   1533\u001b[0m \n\u001b[1;32m   1534\u001b[0m \u001b[38;5;124;03m    - If *x* and/or *y* are 2D arrays a separate data set will be drawn\u001b[39;00m\n\u001b[1;32m   1535\u001b[0m \u001b[38;5;124;03m      for every column. If both *x* and *y* are 2D, they must have the\u001b[39;00m\n\u001b[1;32m   1536\u001b[0m \u001b[38;5;124;03m      same shape. If only one of them is 2D with shape (N, m) the other\u001b[39;00m\n\u001b[1;32m   1537\u001b[0m \u001b[38;5;124;03m      must have length N and will be used for every data set m.\u001b[39;00m\n\u001b[1;32m   1538\u001b[0m \n\u001b[1;32m   1539\u001b[0m \u001b[38;5;124;03m      Example:\u001b[39;00m\n\u001b[1;32m   1540\u001b[0m \n\u001b[1;32m   1541\u001b[0m \u001b[38;5;124;03m      >>> x = [1, 2, 3]\u001b[39;00m\n\u001b[1;32m   1542\u001b[0m \u001b[38;5;124;03m      >>> y = np.array([[1, 2], [3, 4], [5, 6]])\u001b[39;00m\n\u001b[1;32m   1543\u001b[0m \u001b[38;5;124;03m      >>> plot(x, y)\u001b[39;00m\n\u001b[1;32m   1544\u001b[0m \n\u001b[1;32m   1545\u001b[0m \u001b[38;5;124;03m      is equivalent to:\u001b[39;00m\n\u001b[1;32m   1546\u001b[0m \n\u001b[1;32m   1547\u001b[0m \u001b[38;5;124;03m      >>> for col in range(y.shape[1]):\u001b[39;00m\n\u001b[1;32m   1548\u001b[0m \u001b[38;5;124;03m      ...     plot(x, y[:, col])\u001b[39;00m\n\u001b[1;32m   1549\u001b[0m \n\u001b[1;32m   1550\u001b[0m \u001b[38;5;124;03m    - The third way is to specify multiple sets of *[x]*, *y*, *[fmt]*\u001b[39;00m\n\u001b[1;32m   1551\u001b[0m \u001b[38;5;124;03m      groups::\u001b[39;00m\n\u001b[1;32m   1552\u001b[0m \n\u001b[1;32m   1553\u001b[0m \u001b[38;5;124;03m      >>> plot(x1, y1, 'g^', x2, y2, 'g-')\u001b[39;00m\n\u001b[1;32m   1554\u001b[0m \n\u001b[1;32m   1555\u001b[0m \u001b[38;5;124;03m      In this case, any additional keyword argument applies to all\u001b[39;00m\n\u001b[1;32m   1556\u001b[0m \u001b[38;5;124;03m      datasets. Also, this syntax cannot be combined with the *data*\u001b[39;00m\n\u001b[1;32m   1557\u001b[0m \u001b[38;5;124;03m      parameter.\u001b[39;00m\n\u001b[1;32m   1558\u001b[0m \n\u001b[1;32m   1559\u001b[0m \u001b[38;5;124;03m    By default, each line is assigned a different style specified by a\u001b[39;00m\n\u001b[1;32m   1560\u001b[0m \u001b[38;5;124;03m    'style cycle'. The *fmt* and line property parameters are only\u001b[39;00m\n\u001b[1;32m   1561\u001b[0m \u001b[38;5;124;03m    necessary if you want explicit deviations from these defaults.\u001b[39;00m\n\u001b[1;32m   1562\u001b[0m \u001b[38;5;124;03m    Alternatively, you can also change the style cycle using\u001b[39;00m\n\u001b[1;32m   1563\u001b[0m \u001b[38;5;124;03m    :rc:`axes.prop_cycle`.\u001b[39;00m\n\u001b[1;32m   1564\u001b[0m \n\u001b[1;32m   1565\u001b[0m \n\u001b[1;32m   1566\u001b[0m \u001b[38;5;124;03m    Parameters\u001b[39;00m\n\u001b[1;32m   1567\u001b[0m \u001b[38;5;124;03m    ----------\u001b[39;00m\n\u001b[1;32m   1568\u001b[0m \u001b[38;5;124;03m    x, y : array-like or scalar\u001b[39;00m\n\u001b[1;32m   1569\u001b[0m \u001b[38;5;124;03m        The horizontal / vertical coordinates of the data points.\u001b[39;00m\n\u001b[1;32m   1570\u001b[0m \u001b[38;5;124;03m        *x* values are optional and default to ``range(len(y))``.\u001b[39;00m\n\u001b[1;32m   1571\u001b[0m \n\u001b[1;32m   1572\u001b[0m \u001b[38;5;124;03m        Commonly, these parameters are 1D arrays.\u001b[39;00m\n\u001b[1;32m   1573\u001b[0m \n\u001b[1;32m   1574\u001b[0m \u001b[38;5;124;03m        They can also be scalars, or two-dimensional (in that case, the\u001b[39;00m\n\u001b[1;32m   1575\u001b[0m \u001b[38;5;124;03m        columns represent separate data sets).\u001b[39;00m\n\u001b[1;32m   1576\u001b[0m \n\u001b[1;32m   1577\u001b[0m \u001b[38;5;124;03m        These arguments cannot be passed as keywords.\u001b[39;00m\n\u001b[1;32m   1578\u001b[0m \n\u001b[1;32m   1579\u001b[0m \u001b[38;5;124;03m    fmt : str, optional\u001b[39;00m\n\u001b[1;32m   1580\u001b[0m \u001b[38;5;124;03m        A format string, e.g. 'ro' for red circles. See the *Notes*\u001b[39;00m\n\u001b[1;32m   1581\u001b[0m \u001b[38;5;124;03m        section for a full description of the format strings.\u001b[39;00m\n\u001b[1;32m   1582\u001b[0m \n\u001b[1;32m   1583\u001b[0m \u001b[38;5;124;03m        Format strings are just an abbreviation for quickly setting\u001b[39;00m\n\u001b[1;32m   1584\u001b[0m \u001b[38;5;124;03m        basic line properties. All of these and more can also be\u001b[39;00m\n\u001b[1;32m   1585\u001b[0m \u001b[38;5;124;03m        controlled by keyword arguments.\u001b[39;00m\n\u001b[1;32m   1586\u001b[0m \n\u001b[1;32m   1587\u001b[0m \u001b[38;5;124;03m        This argument cannot be passed as keyword.\u001b[39;00m\n\u001b[1;32m   1588\u001b[0m \n\u001b[1;32m   1589\u001b[0m \u001b[38;5;124;03m    data : indexable object, optional\u001b[39;00m\n\u001b[1;32m   1590\u001b[0m \u001b[38;5;124;03m        An object with labelled data. If given, provide the label names to\u001b[39;00m\n\u001b[1;32m   1591\u001b[0m \u001b[38;5;124;03m        plot in *x* and *y*.\u001b[39;00m\n\u001b[1;32m   1592\u001b[0m \n\u001b[1;32m   1593\u001b[0m \u001b[38;5;124;03m        .. note::\u001b[39;00m\n\u001b[1;32m   1594\u001b[0m \u001b[38;5;124;03m            Technically there's a slight ambiguity in calls where the\u001b[39;00m\n\u001b[1;32m   1595\u001b[0m \u001b[38;5;124;03m            second label is a valid *fmt*. ``plot('n', 'o', data=obj)``\u001b[39;00m\n\u001b[1;32m   1596\u001b[0m \u001b[38;5;124;03m            could be ``plt(x, y)`` or ``plt(y, fmt)``. In such cases,\u001b[39;00m\n\u001b[1;32m   1597\u001b[0m \u001b[38;5;124;03m            the former interpretation is chosen, but a warning is issued.\u001b[39;00m\n\u001b[1;32m   1598\u001b[0m \u001b[38;5;124;03m            You may suppress the warning by adding an empty format string\u001b[39;00m\n\u001b[1;32m   1599\u001b[0m \u001b[38;5;124;03m            ``plot('n', 'o', '', data=obj)``.\u001b[39;00m\n\u001b[1;32m   1600\u001b[0m \n\u001b[1;32m   1601\u001b[0m \u001b[38;5;124;03m    Returns\u001b[39;00m\n\u001b[1;32m   1602\u001b[0m \u001b[38;5;124;03m    -------\u001b[39;00m\n\u001b[1;32m   1603\u001b[0m \u001b[38;5;124;03m    list of `.Line2D`\u001b[39;00m\n\u001b[1;32m   1604\u001b[0m \u001b[38;5;124;03m        A list of lines representing the plotted data.\u001b[39;00m\n\u001b[1;32m   1605\u001b[0m \n\u001b[1;32m   1606\u001b[0m \u001b[38;5;124;03m    Other Parameters\u001b[39;00m\n\u001b[1;32m   1607\u001b[0m \u001b[38;5;124;03m    ----------------\u001b[39;00m\n\u001b[1;32m   1608\u001b[0m \u001b[38;5;124;03m    scalex, scaley : bool, default: True\u001b[39;00m\n\u001b[1;32m   1609\u001b[0m \u001b[38;5;124;03m        These parameters determine if the view limits are adapted to the\u001b[39;00m\n\u001b[1;32m   1610\u001b[0m \u001b[38;5;124;03m        data limits. The values are passed on to\u001b[39;00m\n\u001b[1;32m   1611\u001b[0m \u001b[38;5;124;03m        `~.axes.Axes.autoscale_view`.\u001b[39;00m\n\u001b[1;32m   1612\u001b[0m \n\u001b[1;32m   1613\u001b[0m \u001b[38;5;124;03m    **kwargs : `~matplotlib.lines.Line2D` properties, optional\u001b[39;00m\n\u001b[1;32m   1614\u001b[0m \u001b[38;5;124;03m        *kwargs* are used to specify properties like a line label (for\u001b[39;00m\n\u001b[1;32m   1615\u001b[0m \u001b[38;5;124;03m        auto legends), linewidth, antialiasing, marker face color.\u001b[39;00m\n\u001b[1;32m   1616\u001b[0m \u001b[38;5;124;03m        Example::\u001b[39;00m\n\u001b[1;32m   1617\u001b[0m \n\u001b[1;32m   1618\u001b[0m \u001b[38;5;124;03m        >>> plot([1, 2, 3], [1, 2, 3], 'go-', label='line 1', linewidth=2)\u001b[39;00m\n\u001b[1;32m   1619\u001b[0m \u001b[38;5;124;03m        >>> plot([1, 2, 3], [1, 4, 9], 'rs', label='line 2')\u001b[39;00m\n\u001b[1;32m   1620\u001b[0m \n\u001b[1;32m   1621\u001b[0m \u001b[38;5;124;03m        If you specify multiple lines with one plot call, the kwargs apply\u001b[39;00m\n\u001b[1;32m   1622\u001b[0m \u001b[38;5;124;03m        to all those lines. In case the label object is iterable, each\u001b[39;00m\n\u001b[1;32m   1623\u001b[0m \u001b[38;5;124;03m        element is used as labels for each set of data.\u001b[39;00m\n\u001b[1;32m   1624\u001b[0m \n\u001b[1;32m   1625\u001b[0m \u001b[38;5;124;03m        Here is a list of available `.Line2D` properties:\u001b[39;00m\n\u001b[1;32m   1626\u001b[0m \n\u001b[1;32m   1627\u001b[0m \u001b[38;5;124;03m        %(Line2D:kwdoc)s\u001b[39;00m\n\u001b[1;32m   1628\u001b[0m \n\u001b[1;32m   1629\u001b[0m \u001b[38;5;124;03m    See Also\u001b[39;00m\n\u001b[1;32m   1630\u001b[0m \u001b[38;5;124;03m    --------\u001b[39;00m\n\u001b[1;32m   1631\u001b[0m \u001b[38;5;124;03m    scatter : XY scatter plot with markers of varying size and/or color (\u001b[39;00m\n\u001b[1;32m   1632\u001b[0m \u001b[38;5;124;03m        sometimes also called bubble chart).\u001b[39;00m\n\u001b[1;32m   1633\u001b[0m \n\u001b[1;32m   1634\u001b[0m \u001b[38;5;124;03m    Notes\u001b[39;00m\n\u001b[1;32m   1635\u001b[0m \u001b[38;5;124;03m    -----\u001b[39;00m\n\u001b[1;32m   1636\u001b[0m \u001b[38;5;124;03m    **Format Strings**\u001b[39;00m\n\u001b[1;32m   1637\u001b[0m \n\u001b[1;32m   1638\u001b[0m \u001b[38;5;124;03m    A format string consists of a part for color, marker and line::\u001b[39;00m\n\u001b[1;32m   1639\u001b[0m \n\u001b[1;32m   1640\u001b[0m \u001b[38;5;124;03m        fmt = '[marker][line][color]'\u001b[39;00m\n\u001b[1;32m   1641\u001b[0m \n\u001b[1;32m   1642\u001b[0m \u001b[38;5;124;03m    Each of them is optional. If not provided, the value from the style\u001b[39;00m\n\u001b[1;32m   1643\u001b[0m \u001b[38;5;124;03m    cycle is used. Exception: If ``line`` is given, but no ``marker``,\u001b[39;00m\n\u001b[1;32m   1644\u001b[0m \u001b[38;5;124;03m    the data will be a line without markers.\u001b[39;00m\n\u001b[1;32m   1645\u001b[0m \n\u001b[1;32m   1646\u001b[0m \u001b[38;5;124;03m    Other combinations such as ``[color][marker][line]`` are also\u001b[39;00m\n\u001b[1;32m   1647\u001b[0m \u001b[38;5;124;03m    supported, but note that their parsing may be ambiguous.\u001b[39;00m\n\u001b[1;32m   1648\u001b[0m \n\u001b[1;32m   1649\u001b[0m \u001b[38;5;124;03m    **Markers**\u001b[39;00m\n\u001b[1;32m   1650\u001b[0m \n\u001b[1;32m   1651\u001b[0m \u001b[38;5;124;03m    =============   ===============================\u001b[39;00m\n\u001b[1;32m   1652\u001b[0m \u001b[38;5;124;03m    character       description\u001b[39;00m\n\u001b[1;32m   1653\u001b[0m \u001b[38;5;124;03m    =============   ===============================\u001b[39;00m\n\u001b[1;32m   1654\u001b[0m \u001b[38;5;124;03m    ``'.'``         point marker\u001b[39;00m\n\u001b[1;32m   1655\u001b[0m \u001b[38;5;124;03m    ``','``         pixel marker\u001b[39;00m\n\u001b[1;32m   1656\u001b[0m \u001b[38;5;124;03m    ``'o'``         circle marker\u001b[39;00m\n\u001b[1;32m   1657\u001b[0m \u001b[38;5;124;03m    ``'v'``         triangle_down marker\u001b[39;00m\n\u001b[1;32m   1658\u001b[0m \u001b[38;5;124;03m    ``'^'``         triangle_up marker\u001b[39;00m\n\u001b[1;32m   1659\u001b[0m \u001b[38;5;124;03m    ``'<'``         triangle_left marker\u001b[39;00m\n\u001b[1;32m   1660\u001b[0m \u001b[38;5;124;03m    ``'>'``         triangle_right marker\u001b[39;00m\n\u001b[1;32m   1661\u001b[0m \u001b[38;5;124;03m    ``'1'``         tri_down marker\u001b[39;00m\n\u001b[1;32m   1662\u001b[0m \u001b[38;5;124;03m    ``'2'``         tri_up marker\u001b[39;00m\n\u001b[1;32m   1663\u001b[0m \u001b[38;5;124;03m    ``'3'``         tri_left marker\u001b[39;00m\n\u001b[1;32m   1664\u001b[0m \u001b[38;5;124;03m    ``'4'``         tri_right marker\u001b[39;00m\n\u001b[1;32m   1665\u001b[0m \u001b[38;5;124;03m    ``'8'``         octagon marker\u001b[39;00m\n\u001b[1;32m   1666\u001b[0m \u001b[38;5;124;03m    ``'s'``         square marker\u001b[39;00m\n\u001b[1;32m   1667\u001b[0m \u001b[38;5;124;03m    ``'p'``         pentagon marker\u001b[39;00m\n\u001b[1;32m   1668\u001b[0m \u001b[38;5;124;03m    ``'P'``         plus (filled) marker\u001b[39;00m\n\u001b[1;32m   1669\u001b[0m \u001b[38;5;124;03m    ``'*'``         star marker\u001b[39;00m\n\u001b[1;32m   1670\u001b[0m \u001b[38;5;124;03m    ``'h'``         hexagon1 marker\u001b[39;00m\n\u001b[1;32m   1671\u001b[0m \u001b[38;5;124;03m    ``'H'``         hexagon2 marker\u001b[39;00m\n\u001b[1;32m   1672\u001b[0m \u001b[38;5;124;03m    ``'+'``         plus marker\u001b[39;00m\n\u001b[1;32m   1673\u001b[0m \u001b[38;5;124;03m    ``'x'``         x marker\u001b[39;00m\n\u001b[1;32m   1674\u001b[0m \u001b[38;5;124;03m    ``'X'``         x (filled) marker\u001b[39;00m\n\u001b[1;32m   1675\u001b[0m \u001b[38;5;124;03m    ``'D'``         diamond marker\u001b[39;00m\n\u001b[1;32m   1676\u001b[0m \u001b[38;5;124;03m    ``'d'``         thin_diamond marker\u001b[39;00m\n\u001b[1;32m   1677\u001b[0m \u001b[38;5;124;03m    ``'|'``         vline marker\u001b[39;00m\n\u001b[1;32m   1678\u001b[0m \u001b[38;5;124;03m    ``'_'``         hline marker\u001b[39;00m\n\u001b[1;32m   1679\u001b[0m \u001b[38;5;124;03m    =============   ===============================\u001b[39;00m\n\u001b[1;32m   1680\u001b[0m \n\u001b[1;32m   1681\u001b[0m \u001b[38;5;124;03m    **Line Styles**\u001b[39;00m\n\u001b[1;32m   1682\u001b[0m \n\u001b[1;32m   1683\u001b[0m \u001b[38;5;124;03m    =============    ===============================\u001b[39;00m\n\u001b[1;32m   1684\u001b[0m \u001b[38;5;124;03m    character        description\u001b[39;00m\n\u001b[1;32m   1685\u001b[0m \u001b[38;5;124;03m    =============    ===============================\u001b[39;00m\n\u001b[1;32m   1686\u001b[0m \u001b[38;5;124;03m    ``'-'``          solid line style\u001b[39;00m\n\u001b[1;32m   1687\u001b[0m \u001b[38;5;124;03m    ``'--'``         dashed line style\u001b[39;00m\n\u001b[1;32m   1688\u001b[0m \u001b[38;5;124;03m    ``'-.'``         dash-dot line style\u001b[39;00m\n\u001b[1;32m   1689\u001b[0m \u001b[38;5;124;03m    ``':'``          dotted line style\u001b[39;00m\n\u001b[1;32m   1690\u001b[0m \u001b[38;5;124;03m    =============    ===============================\u001b[39;00m\n\u001b[1;32m   1691\u001b[0m \n\u001b[1;32m   1692\u001b[0m \u001b[38;5;124;03m    Example format strings::\u001b[39;00m\n\u001b[1;32m   1693\u001b[0m \n\u001b[1;32m   1694\u001b[0m \u001b[38;5;124;03m        'b'    # blue markers with default shape\u001b[39;00m\n\u001b[1;32m   1695\u001b[0m \u001b[38;5;124;03m        'or'   # red circles\u001b[39;00m\n\u001b[1;32m   1696\u001b[0m \u001b[38;5;124;03m        '-g'   # green solid line\u001b[39;00m\n\u001b[1;32m   1697\u001b[0m \u001b[38;5;124;03m        '--'   # dashed line with default color\u001b[39;00m\n\u001b[1;32m   1698\u001b[0m \u001b[38;5;124;03m        '^k:'  # black triangle_up markers connected by a dotted line\u001b[39;00m\n\u001b[1;32m   1699\u001b[0m \n\u001b[1;32m   1700\u001b[0m \u001b[38;5;124;03m    **Colors**\u001b[39;00m\n\u001b[1;32m   1701\u001b[0m \n\u001b[1;32m   1702\u001b[0m \u001b[38;5;124;03m    The supported color abbreviations are the single letter codes\u001b[39;00m\n\u001b[1;32m   1703\u001b[0m \n\u001b[1;32m   1704\u001b[0m \u001b[38;5;124;03m    =============    ===============================\u001b[39;00m\n\u001b[1;32m   1705\u001b[0m \u001b[38;5;124;03m    character        color\u001b[39;00m\n\u001b[1;32m   1706\u001b[0m \u001b[38;5;124;03m    =============    ===============================\u001b[39;00m\n\u001b[1;32m   1707\u001b[0m \u001b[38;5;124;03m    ``'b'``          blue\u001b[39;00m\n\u001b[1;32m   1708\u001b[0m \u001b[38;5;124;03m    ``'g'``          green\u001b[39;00m\n\u001b[1;32m   1709\u001b[0m \u001b[38;5;124;03m    ``'r'``          red\u001b[39;00m\n\u001b[1;32m   1710\u001b[0m \u001b[38;5;124;03m    ``'c'``          cyan\u001b[39;00m\n\u001b[1;32m   1711\u001b[0m \u001b[38;5;124;03m    ``'m'``          magenta\u001b[39;00m\n\u001b[1;32m   1712\u001b[0m \u001b[38;5;124;03m    ``'y'``          yellow\u001b[39;00m\n\u001b[1;32m   1713\u001b[0m \u001b[38;5;124;03m    ``'k'``          black\u001b[39;00m\n\u001b[1;32m   1714\u001b[0m \u001b[38;5;124;03m    ``'w'``          white\u001b[39;00m\n\u001b[1;32m   1715\u001b[0m \u001b[38;5;124;03m    =============    ===============================\u001b[39;00m\n\u001b[1;32m   1716\u001b[0m \n\u001b[1;32m   1717\u001b[0m \u001b[38;5;124;03m    and the ``'CN'`` colors that index into the default property cycle.\u001b[39;00m\n\u001b[1;32m   1718\u001b[0m \n\u001b[1;32m   1719\u001b[0m \u001b[38;5;124;03m    If the color is the only part of the format string, you can\u001b[39;00m\n\u001b[1;32m   1720\u001b[0m \u001b[38;5;124;03m    additionally use any  `matplotlib.colors` spec, e.g. full names\u001b[39;00m\n\u001b[0;32m-> 1721\u001b[0m \u001b[38;5;124;03m    (``'green'``) or hex strings (``'#008000'``).\u001b[39;00m\n\u001b[1;32m   1722\u001b[0m \u001b[38;5;124;03m    \"\"\"\u001b[39;00m\n\u001b[1;32m   1723\u001b[0m     kwargs \u001b[38;5;241m=\u001b[39m cbook\u001b[38;5;241m.\u001b[39mnormalize_kwargs(kwargs, mlines\u001b[38;5;241m.\u001b[39mLine2D)\n\u001b[1;32m   1724\u001b[0m     lines \u001b[38;5;241m=\u001b[39m [\u001b[38;5;241m*\u001b[39m\u001b[38;5;28mself\u001b[39m\u001b[38;5;241m.\u001b[39m_get_lines(\u001b[38;5;28mself\u001b[39m, \u001b[38;5;241m*\u001b[39margs, data\u001b[38;5;241m=\u001b[39mdata, \u001b[38;5;241m*\u001b[39m\u001b[38;5;241m*\u001b[39mkwargs)]\n",
      "File \u001b[0;32m~/.local/lib/python3.10/site-packages/matplotlib/axes/_base.py:303\u001b[0m, in \u001b[0;36m_process_plot_var_args.__call__\u001b[0;34m(self, axes, data, *args, **kwargs)\u001b[0m\n\u001b[1;32m    301\u001b[0m     this \u001b[38;5;241m+\u001b[39m\u001b[38;5;241m=\u001b[39m args[\u001b[38;5;241m0\u001b[39m],\n\u001b[1;32m    302\u001b[0m     args \u001b[38;5;241m=\u001b[39m args[\u001b[38;5;241m1\u001b[39m:]\n\u001b[0;32m--> 303\u001b[0m \u001b[38;5;28;01myield from\u001b[39;00m \u001b[38;5;28;43mself\u001b[39;49m\u001b[38;5;241;43m.\u001b[39;49m\u001b[43m_plot_args\u001b[49m\u001b[43m(\u001b[49m\n\u001b[1;32m    304\u001b[0m \u001b[43m    \u001b[49m\u001b[43maxes\u001b[49m\u001b[43m,\u001b[49m\u001b[43m \u001b[49m\u001b[43mthis\u001b[49m\u001b[43m,\u001b[49m\u001b[43m \u001b[49m\u001b[43mkwargs\u001b[49m\u001b[43m,\u001b[49m\u001b[43m \u001b[49m\u001b[43mambiguous_fmt_datakey\u001b[49m\u001b[38;5;241;43m=\u001b[39;49m\u001b[43mambiguous_fmt_datakey\u001b[49m\u001b[43m)\u001b[49m\n",
      "File \u001b[0;32m~/.local/lib/python3.10/site-packages/matplotlib/axes/_base.py:499\u001b[0m, in \u001b[0;36m_process_plot_var_args._plot_args\u001b[0;34m(self, axes, tup, kwargs, return_kwargs, ambiguous_fmt_datakey)\u001b[0m\n\u001b[1;32m    496\u001b[0m     axes\u001b[38;5;241m.\u001b[39myaxis\u001b[38;5;241m.\u001b[39mupdate_units(y)\n\u001b[1;32m    498\u001b[0m \u001b[38;5;28;01mif\u001b[39;00m x\u001b[38;5;241m.\u001b[39mshape[\u001b[38;5;241m0\u001b[39m] \u001b[38;5;241m!=\u001b[39m y\u001b[38;5;241m.\u001b[39mshape[\u001b[38;5;241m0\u001b[39m]:\n\u001b[0;32m--> 499\u001b[0m     \u001b[38;5;28;01mraise\u001b[39;00m \u001b[38;5;167;01mValueError\u001b[39;00m(\u001b[38;5;124mf\u001b[39m\u001b[38;5;124m\"\u001b[39m\u001b[38;5;124mx and y must have same first dimension, but \u001b[39m\u001b[38;5;124m\"\u001b[39m\n\u001b[1;32m    500\u001b[0m                      \u001b[38;5;124mf\u001b[39m\u001b[38;5;124m\"\u001b[39m\u001b[38;5;124mhave shapes \u001b[39m\u001b[38;5;132;01m{\u001b[39;00mx\u001b[38;5;241m.\u001b[39mshape\u001b[38;5;132;01m}\u001b[39;00m\u001b[38;5;124m and \u001b[39m\u001b[38;5;132;01m{\u001b[39;00my\u001b[38;5;241m.\u001b[39mshape\u001b[38;5;132;01m}\u001b[39;00m\u001b[38;5;124m\"\u001b[39m)\n\u001b[1;32m    501\u001b[0m \u001b[38;5;28;01mif\u001b[39;00m x\u001b[38;5;241m.\u001b[39mndim \u001b[38;5;241m>\u001b[39m \u001b[38;5;241m2\u001b[39m \u001b[38;5;129;01mor\u001b[39;00m y\u001b[38;5;241m.\u001b[39mndim \u001b[38;5;241m>\u001b[39m \u001b[38;5;241m2\u001b[39m:\n\u001b[1;32m    502\u001b[0m     \u001b[38;5;28;01mraise\u001b[39;00m \u001b[38;5;167;01mValueError\u001b[39;00m(\u001b[38;5;124mf\u001b[39m\u001b[38;5;124m\"\u001b[39m\u001b[38;5;124mx and y can be no greater than 2D, but have \u001b[39m\u001b[38;5;124m\"\u001b[39m\n\u001b[1;32m    503\u001b[0m                      \u001b[38;5;124mf\u001b[39m\u001b[38;5;124m\"\u001b[39m\u001b[38;5;124mshapes \u001b[39m\u001b[38;5;132;01m{\u001b[39;00mx\u001b[38;5;241m.\u001b[39mshape\u001b[38;5;132;01m}\u001b[39;00m\u001b[38;5;124m and \u001b[39m\u001b[38;5;132;01m{\u001b[39;00my\u001b[38;5;241m.\u001b[39mshape\u001b[38;5;132;01m}\u001b[39;00m\u001b[38;5;124m\"\u001b[39m)\n",
      "\u001b[0;31mValueError\u001b[0m: x and y must have same first dimension, but have shapes (1,) and (100,)"
     ]
    },
    {
     "data": {
      "image/png": "[encoded data removed]",
      "text/plain": [
       "<Figure size 640x480 with 1 Axes>"
      ]
     },
     "metadata": {},
     "output_type": "display_data"
    }
   ],
   "source": [
    "#Plot the gradient history, use function plt.plot(),  and get a curve similar to Fig.2. \n",
    "plt.plot(num_iters,J_vals[1])\n",
    "\n",
    "\n",
    "#Add labels : plt.xlabel; plt.ylabel; plt.title"
   ]
  },
  {
   "cell_type": "markdown",
   "metadata": {},
   "source": [
    "### Graph with Best Line Fit \n",
    "\n",
    "Plot data and the best line fit (with the optimized  $\\theta$ values) as shown in Fig.3. \n",
    "\n",
    "<img src=\"images/f3.png\" style=\"width:350px;height:250px;\">\n",
    "<caption><center> Fig. 3 </center></caption>"
   ]
  },
  {
   "cell_type": "code",
   "execution_count": null,
   "metadata": {},
   "outputs": [],
   "source": [
    "#plot data\n",
    "plt.scatter(?,?)\n",
    "\n",
    "#add the best line fit with red colour\n",
    "x_fit=range(25)\n",
    "y_fit=theta[0]+theta[1]*x_fit\n",
    "\n",
    "plt.plot(?,?,?)\n",
    "\n",
    "#Add labels : plt.xlabel; plt.ylabel; plt.title\n"
   ]
  },
  {
   "cell_type": "markdown",
   "metadata": {},
   "source": [
    "### Make predictions  using the optimized $\\theta$ values\n",
    "\n",
    "Complete function **predict()** to compute model predictions.\n"
   ]
  },
  {
   "cell_type": "code",
   "execution_count": null,
   "metadata": {},
   "outputs": [],
   "source": [
    "def predict(x,theta):\n",
    "    \"\"\"\n",
    "    Takes array of x and theta and return the predicted value of y \n",
    "    \"\"\"\n",
    "     #compute the linear regression model\n",
    "    h= ?\n",
    "    \n",
    "    return h"
   ]
  },
  {
   "cell_type": "markdown",
   "metadata": {},
   "source": [
    "Run  **predict** to predict profits in areas of 35,000 and 70,000 people. Note that you need to scale the numbers properly !\n",
    "\n",
    "Answer: \n",
    "\n",
    "        For population = 35,000, predicted profit of 4520 USD\n",
    "\n",
    "        For population = 70,000, predicted profit of 45342 USD"
   ]
  },
  {
   "cell_type": "code",
   "execution_count": null,
   "metadata": {},
   "outputs": [],
   "source": [
    "predict1= ?\n",
    "print(\"For population = 35,000, what is the predicted profit in $ ?\")\n",
    "?"
   ]
  },
  {
   "cell_type": "code",
   "execution_count": null,
   "metadata": {},
   "outputs": [],
   "source": [
    "predict2= ?\n",
    "print(\"For population = 70,000, what is the predicted profit in $ ?\")\n",
    "?"
   ]
  },
  {
   "cell_type": "markdown",
   "metadata": {},
   "source": [
    "##  PART 2 Multivariable Linear Regression\n",
    "\n",
    "**Objectives**: Implement linear regression with multiple variables (features) and get to see it works on data. \n",
    "\n",
    "Now you will implement linear regression with multiple variables to predict the prices of houses. Suppose you are selling your house and you want to know what a good market price would be. One way to do this is to first collect information on recent houses sold and make a model of housing prices.\n",
    "\n",
    "The file **Multi_linear.txt** contains a training set of housing prices in Portland, Oregon. The first column is the size of the house (in square feet), the second column is the number of bedrooms, and the third column is the price of the house.  \n",
    "\n",
    "Load the data into dataframe data2. "
   ]
  },
  {
   "cell_type": "code",
   "execution_count": null,
   "metadata": {},
   "outputs": [],
   "source": [
    "data2= ?"
   ]
  },
  {
   "cell_type": "code",
   "execution_count": null,
   "metadata": {},
   "outputs": [],
   "source": [
    "#a few examples from the dataset \n",
    "?"
   ]
  },
  {
   "cell_type": "code",
   "execution_count": null,
   "metadata": {},
   "outputs": [],
   "source": [
    "#Some statistics\n",
    "?"
   ]
  },
  {
   "cell_type": "markdown",
   "metadata": {},
   "source": [
    "### Feature Normalization\n",
    "\n",
    "Note that house sizes are much larger values (about 1000 times) than the number of bedrooms. When features differ by orders of magnitude, first performing feature scaling can make gradient descent converge much more quickly. \n",
    "To make sure features are on a similar scale apply Mean normalization.\n",
    "\n",
    "$x_i = \\frac{x_i - \\mu_i}{\\sigma_i}$\n",
    "\n",
    "Complete function **featureNormalization(X)**:\n",
    "\n",
    "• Compute the mean value  $\\mu_i$ of each feature (use function np.mean(X,axis=0)) \n",
    "\n",
    "• compute the standard deviation $\\sigma_i$ of each feature (use function np.std(X,axis=0)) \n",
    "\n",
    "• Apply the equation above.\n",
    "\n",
    "**Remark:** When normalizing the features, it is important to store the mean value and the standard deviation used for normalization. After optimizing the trainable parameters of the model (thetas), you want to predict the price of a new example not seen before.\n",
    "You must first normalize the features of that new example using the mean and standard deviation previously computed from the training set.\n",
    "\n",
    "**Remark:** Mean normalization is an alternative to normalizing by making the absolute values < 1 (i.e. dividing by MaxValue-MinValue)."
   ]
  },
  {
   "cell_type": "code",
   "execution_count": null,
   "metadata": {},
   "outputs": [],
   "source": [
    "def featureNormalization(X):\n",
    "    \"\"\"\n",
    "    Take in numpy array of X values and return normalize X values,\n",
    "    the mean and standard deviation of each feature\n",
    "    \"\"\"\n",
    "    #Compute the mean value \n",
    "    mean=?\n",
    "    \n",
    "    # compute the standard deviation  \n",
    "    std=?\n",
    "    \n",
    "    # apply Mean normalization\n",
    "    X_norm = ?\n",
    "    \n",
    "    return X_norm , mean , std"
   ]
  },
  {
   "cell_type": "markdown",
   "metadata": {},
   "source": [
    "Extract from data2 the features in X2 and the output in y2. If rank 1, reshape them to have 2 dimensions. "
   ]
  },
  {
   "cell_type": "code",
   "execution_count": null,
   "metadata": {},
   "outputs": [],
   "source": [
    "data_n2=data2.values\n",
    "\n",
    "#Extract from data2 the features in X2 and the output in y2\n",
    "X2 =?\n",
    "y2=?\n",
    "\n",
    "#Check their shapes, if rank 1, reshape to have 2 dimensions \n",
    "?\n",
    "\n",
    "#Run featureNormalization to normalize X2, store the means and stds.\n",
    "\n",
    "X2, mean_X2, std_X2 = ?\n",
    "\n",
    "#After normalizing the features add an extra column of 1's corresponding to x0 = 1. \n",
    "\n",
    "X2=np.append(.....)\n",
    "\n",
    "\n",
    "#Inicialize the vector of model parameters theta2 to zeros\n",
    "theta2= ?"
   ]
  },
  {
   "cell_type": "markdown",
   "metadata": {},
   "source": [
    "### Compute Cost $J(\\theta)$\n",
    "In the previous (univariate) problem you implemented functions **computeCost()** and **gradientDescent()** in a vectorized way, therefore they will work for linear regression with any number of features. "
   ]
  },
  {
   "cell_type": "code",
   "execution_count": null,
   "metadata": {},
   "outputs": [],
   "source": [
    "#Call function computeCost() for the present data\n",
    "\n",
    "?\n",
    "\n",
    "# Answer: Cost = 65591548106.46"
   ]
  },
  {
   "cell_type": "markdown",
   "metadata": {},
   "source": [
    "### Gradient Descent\n",
    "\n",
    "\n",
    "\n",
    "Apply **gradientDescent** with different learning rates (e.g. alpha=[0.001, 0.01, 0.1, 0.3 1.4]) and 400 iterations.\n",
    "\n",
    "You may need to adjust the number of iterations in order to see well the overall trend in $J(\\theta)$ curve below.  "
   ]
  },
  {
   "cell_type": "code",
   "execution_count": null,
   "metadata": {},
   "outputs": [],
   "source": [
    "#Inicialize vector theta2 to zeros\n",
    "initial_theta2= ?\n",
    "theta2, J_history2 = gradientDescent(?,?,?,?,?)\n",
    "\n",
    "#The final Linear Regression model with optimized parameters theta\n",
    "print(\"h(x) =\"+str(round(theta2[0,0],2))+\" + \"+str(round(theta2[1,0],2))+\"x1 + \"+str(round(theta2[2,0],2))+\"x2\")"
   ]
  },
  {
   "cell_type": "markdown",
   "metadata": {},
   "source": [
    "### Visualising the Cost Function $J(\\theta)$\n",
    "\n",
    "If the learning rate is too small (e.g. 0.001), the gradient descent takes a very long time to converge to the optimal value. \n",
    "\n",
    "If the learning rate is too large (e.g. 1.4), $J(\\theta)$ can diverge and \"blow up\", resulting in values which are too large for computer calculations. In these situations, Python will return nan (not a number). This is often caused by undefined operations that involve +/- infinity.\n",
    "\n",
    "Get a similar plot as in Fig.4. \n",
    "\n",
    "<img src=\"images/f4.png\" style=\"width:350px;height:250px;\">\n",
    "<caption><center> Fig. 4 </center></caption>"
   ]
  },
  {
   "cell_type": "code",
   "execution_count": null,
   "metadata": {},
   "outputs": [],
   "source": [
    "plt.plot(?)\n"
   ]
  },
  {
   "cell_type": "markdown",
   "metadata": {},
   "source": [
    "### Make predictions using the optimized $\\theta$ values\n",
    "\n",
    "Using the best learning rate you found, run gradient descent until convergence to find the optimal $\\theta$ values.\n"
   ]
  },
  {
   "cell_type": "code",
   "execution_count": null,
   "metadata": {},
   "outputs": [],
   "source": [
    "# Predict the price of a house with 1650 square feet and 3 bedrooms  \n",
    "x_sample =?\n",
    "\n",
    "#feature normalisation of x_sample\n",
    "x_sample= ?\n",
    "\n",
    "#add 1\n",
    "x_sample=\n",
    "\n",
    "\n",
    "predict3=predict(?,?)\n",
    "\n",
    "print(\"For size of house = 1650, Number of bedroom = 3, what is the predicted house price in of $ ?\")\n",
    "\n",
    "# Answer: the price is about $293000.0"
   ]
  },
  {
   "cell_type": "code",
   "execution_count": null,
   "metadata": {},
   "outputs": [],
   "source": []
  }
 ],
 "metadata": {
  "kernelspec": {
   "display_name": "Python 3 (ipykernel)",
   "language": "python",
   "name": "python3"
  },
  "language_info": {
   "codemirror_mode": {
    "name": "ipython",
    "version": 3
   },
   "file_extension": ".py",
   "mimetype": "text/x-python",
   "name": "python",
   "nbconvert_exporter": "python",
   "pygments_lexer": "ipython3",
   "version": "3.10.12"
  }
 },
 "nbformat": 4,
 "nbformat_minor": 4
}
